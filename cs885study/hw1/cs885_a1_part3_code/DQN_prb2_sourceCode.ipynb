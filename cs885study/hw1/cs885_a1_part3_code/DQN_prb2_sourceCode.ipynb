{
  "nbformat": 4,
  "nbformat_minor": 0,
  "metadata": {
    "colab": {
      "provenance": []
    },
    "kernelspec": {
      "name": "python3",
      "display_name": "Python 3"
    },
    "language_info": {
      "name": "python"
    },
    "accelerator": "GPU",
    "gpuClass": "standard"
  },
  "cells": [
    {
      "cell_type": "code",
      "source": [
        "from google.colab import drive\n",
        "import os\n",
        "drive.mount('/content/gdrive/')"
      ],
      "metadata": {
        "colab": {
          "base_uri": "https://localhost:8080/"
        },
        "id": "h7xMJMYSiuQ6",
        "outputId": "e32f4c91-1d86-411c-ef49-7e1d3cfa99b9"
      },
      "execution_count": 2,
      "outputs": [
        {
          "output_type": "stream",
          "name": "stdout",
          "text": [
            "Mounted at /content/gdrive/\n"
          ]
        }
      ]
    },
    {
      "cell_type": "code",
      "source": [
        "# copied 5 util files under /content/ and then rename as envs_, seed_, buffers_, torch_, common_\n",
        "!ls"
      ],
      "metadata": {
        "id": "HNuy4BsRkCm_",
        "colab": {
          "base_uri": "https://localhost:8080/"
        },
        "outputId": "e5a3d7cf-1ce5-4a7b-f9fd-481ef2a740c4"
      },
      "execution_count": 4,
      "outputs": [
        {
          "output_type": "stream",
          "name": "stdout",
          "text": [
            "buffers.py  common.py  envs.py\tgdrive\tsample_data  seed.py  torch.py\n"
          ]
        }
      ]
    },
    {
      "cell_type": "code",
      "source": [
        "!mv envs.py envs_.py\n",
        "!mv seed.py seed_.py\n",
        "!mv buffers.py buffers_.py\n",
        "!mv torch.py torch_.py\n",
        "!mv common.py common_.py"
      ],
      "metadata": {
        "id": "0s20l3WOfusR"
      },
      "execution_count": 5,
      "outputs": []
    },
    {
      "cell_type": "code",
      "source": [
        "!ls"
      ],
      "metadata": {
        "colab": {
          "base_uri": "https://localhost:8080/"
        },
        "id": "A_FXrkffgDcD",
        "outputId": "95614283-2176-4d86-9c5b-804a4aa0c67c"
      },
      "execution_count": 6,
      "outputs": [
        {
          "output_type": "stream",
          "name": "stdout",
          "text": [
            "buffers_.py  common_.py  envs_.py  gdrive  sample_data\tseed_.py  torch_.py\n"
          ]
        }
      ]
    },
    {
      "cell_type": "code",
      "execution_count": 8,
      "metadata": {
        "colab": {
          "base_uri": "https://localhost:8080/",
          "height": 1000
        },
        "id": "LiqPIDiCg4U-",
        "outputId": "00dd218a-cd16-4bef-bac2-697aac5ec14a"
      },
      "outputs": [
        {
          "output_type": "stream",
          "name": "stdout",
          "text": [
            "Seed=1\n",
            "Training:\n"
          ]
        },
        {
          "output_type": "stream",
          "name": "stderr",
          "text": [
            "R25(41.52): 100%|██████████| 300/300 [00:07<00:00, 37.90it/s]\n"
          ]
        },
        {
          "output_type": "stream",
          "name": "stdout",
          "text": [
            "Training finished!\n",
            "Seed=1\n",
            "Training:\n"
          ]
        },
        {
          "output_type": "stream",
          "name": "stderr",
          "text": [
            "R25(163.76): 100%|██████████| 300/300 [00:22<00:00, 13.26it/s]\n"
          ]
        },
        {
          "output_type": "stream",
          "name": "stdout",
          "text": [
            "Training finished!\n",
            "Seed=1\n",
            "Training:\n"
          ]
        },
        {
          "output_type": "stream",
          "name": "stderr",
          "text": [
            "R25(145.36): 100%|██████████| 300/300 [00:30<00:00,  9.97it/s]\n"
          ]
        },
        {
          "output_type": "stream",
          "name": "stdout",
          "text": [
            "Training finished!\n",
            "Seed=1\n",
            "Training:\n"
          ]
        },
        {
          "output_type": "stream",
          "name": "stderr",
          "text": [
            "R25(160.68): 100%|██████████| 300/300 [00:34<00:00,  8.75it/s]\n"
          ]
        },
        {
          "output_type": "stream",
          "name": "stdout",
          "text": [
            "Training finished!\n",
            "Seed=2\n",
            "Training:\n"
          ]
        },
        {
          "output_type": "stream",
          "name": "stderr",
          "text": [
            "R25(25.36): 100%|██████████| 300/300 [00:07<00:00, 39.35it/s]\n"
          ]
        },
        {
          "output_type": "stream",
          "name": "stdout",
          "text": [
            "Training finished!\n",
            "Seed=2\n",
            "Training:\n"
          ]
        },
        {
          "output_type": "stream",
          "name": "stderr",
          "text": [
            "R25(153.12): 100%|██████████| 300/300 [00:22<00:00, 13.05it/s]\n"
          ]
        },
        {
          "output_type": "stream",
          "name": "stdout",
          "text": [
            "Training finished!\n",
            "Seed=2\n",
            "Training:\n"
          ]
        },
        {
          "output_type": "stream",
          "name": "stderr",
          "text": [
            "R25(155.84): 100%|██████████| 300/300 [00:31<00:00,  9.48it/s]\n"
          ]
        },
        {
          "output_type": "stream",
          "name": "stdout",
          "text": [
            "Training finished!\n",
            "Seed=2\n",
            "Training:\n"
          ]
        },
        {
          "output_type": "stream",
          "name": "stderr",
          "text": [
            "R25(177.32): 100%|██████████| 300/300 [00:34<00:00,  8.73it/s]\n"
          ]
        },
        {
          "output_type": "stream",
          "name": "stdout",
          "text": [
            "Training finished!\n",
            "Seed=3\n",
            "Training:\n"
          ]
        },
        {
          "output_type": "stream",
          "name": "stderr",
          "text": [
            "R25(23.68): 100%|██████████| 300/300 [00:07<00:00, 42.48it/s]\n"
          ]
        },
        {
          "output_type": "stream",
          "name": "stdout",
          "text": [
            "Training finished!\n",
            "Seed=3\n",
            "Training:\n"
          ]
        },
        {
          "output_type": "stream",
          "name": "stderr",
          "text": [
            "R25(177.44): 100%|██████████| 300/300 [00:26<00:00, 11.53it/s]\n"
          ]
        },
        {
          "output_type": "stream",
          "name": "stdout",
          "text": [
            "Training finished!\n",
            "Seed=3\n",
            "Training:\n"
          ]
        },
        {
          "output_type": "stream",
          "name": "stderr",
          "text": [
            "R25(128.32): 100%|██████████| 300/300 [00:30<00:00,  9.89it/s]\n"
          ]
        },
        {
          "output_type": "stream",
          "name": "stdout",
          "text": [
            "Training finished!\n",
            "Seed=3\n",
            "Training:\n"
          ]
        },
        {
          "output_type": "stream",
          "name": "stderr",
          "text": [
            "R25(180.36): 100%|██████████| 300/300 [00:34<00:00,  8.77it/s]\n"
          ]
        },
        {
          "output_type": "stream",
          "name": "stdout",
          "text": [
            "Training finished!\n",
            "Seed=4\n",
            "Training:\n"
          ]
        },
        {
          "output_type": "stream",
          "name": "stderr",
          "text": [
            "R25(14.44): 100%|██████████| 300/300 [00:09<00:00, 33.24it/s]\n"
          ]
        },
        {
          "output_type": "stream",
          "name": "stdout",
          "text": [
            "Training finished!\n",
            "Seed=4\n",
            "Training:\n"
          ]
        },
        {
          "output_type": "stream",
          "name": "stderr",
          "text": [
            "R25(178.04): 100%|██████████| 300/300 [00:24<00:00, 12.16it/s]\n"
          ]
        },
        {
          "output_type": "stream",
          "name": "stdout",
          "text": [
            "Training finished!\n",
            "Seed=4\n",
            "Training:\n"
          ]
        },
        {
          "output_type": "stream",
          "name": "stderr",
          "text": [
            "R25(165.72): 100%|██████████| 300/300 [00:32<00:00,  9.36it/s]\n"
          ]
        },
        {
          "output_type": "stream",
          "name": "stdout",
          "text": [
            "Training finished!\n",
            "Seed=4\n",
            "Training:\n"
          ]
        },
        {
          "output_type": "stream",
          "name": "stderr",
          "text": [
            "R25(192.64): 100%|██████████| 300/300 [00:36<00:00,  8.27it/s]\n"
          ]
        },
        {
          "output_type": "stream",
          "name": "stdout",
          "text": [
            "Training finished!\n",
            "Seed=5\n",
            "Training:\n"
          ]
        },
        {
          "output_type": "stream",
          "name": "stderr",
          "text": [
            "R25(33.96): 100%|██████████| 300/300 [00:08<00:00, 35.01it/s]\n"
          ]
        },
        {
          "output_type": "stream",
          "name": "stdout",
          "text": [
            "Training finished!\n",
            "Seed=5\n",
            "Training:\n"
          ]
        },
        {
          "output_type": "stream",
          "name": "stderr",
          "text": [
            "R25(169.6): 100%|██████████| 300/300 [00:25<00:00, 11.66it/s]\n"
          ]
        },
        {
          "output_type": "stream",
          "name": "stdout",
          "text": [
            "Training finished!\n",
            "Seed=5\n",
            "Training:\n"
          ]
        },
        {
          "output_type": "stream",
          "name": "stderr",
          "text": [
            "R25(172.08): 100%|██████████| 300/300 [00:33<00:00,  9.05it/s]\n"
          ]
        },
        {
          "output_type": "stream",
          "name": "stdout",
          "text": [
            "Training finished!\n",
            "Seed=5\n",
            "Training:\n"
          ]
        },
        {
          "output_type": "stream",
          "name": "stderr",
          "text": [
            "R25(169.44): 100%|██████████| 300/300 [00:35<00:00,  8.43it/s]\n"
          ]
        },
        {
          "output_type": "stream",
          "name": "stdout",
          "text": [
            "Training finished!\n"
          ]
        },
        {
          "output_type": "display_data",
          "data": {
            "text/plain": [
              "<Figure size 640x480 with 1 Axes>"
            ],
            "image/png": "[encoded data removed]"
          },
          "metadata": {}
        }
      ],
      "source": [
        "import gym\n",
        "import numpy as np\n",
        "import envs_, seed_, buffers_, torch_, common_\n",
        "import torch\n",
        "import tqdm\n",
        "import matplotlib.pyplot as plt\n",
        "import warnings\n",
        "warnings.filterwarnings(\"ignore\")\n",
        "\n",
        "# Deep Q Learning\n",
        "# Slide 14\n",
        "# cs.uwaterloo.ca/~ppoupart/teaching/cs885-spring20/slides/cs885-lecture4b.pdf\n",
        "\n",
        "# Constants\n",
        "SEEDS = [1,2,3,4,5]\n",
        "t = torch_.TorchHelper()\n",
        "DEVICE = t.device\n",
        "OBS_N = 4               # State space size\n",
        "ACT_N = 2               # Action space size\n",
        "MINIBATCH_SIZE = 10     # How many examples to sample per train step\n",
        "GAMMA = 0.99            # Discount factor in episodic reward objective\n",
        "LEARNING_RATE = 5e-4    # Learning rate for Adam optimizer\n",
        "TRAIN_AFTER_EPISODES = 10   # Just collect episodes for these many episodes\n",
        "TRAIN_EPOCHS = 5        # Train for these many epochs every time\n",
        "BUFSIZE = 10000         # Replay buffer size\n",
        "EPISODES = 300          # Total number of episodes to learn over\n",
        "TEST_EPISODES = 1       # Test episodes after every train episode\n",
        "HIDDEN = 512            # Hidden nodes\n",
        "TARGET_UPDATE_FREQ = 10 # Target network update frequency\n",
        "STARTING_EPSILON = 1.0  # Starting epsilon\n",
        "STEPS_MAX = 10000       # Gradually reduce epsilon over these many steps\n",
        "EPSILON_END = 0.01      # At the end, keep epsilon at this value\n",
        "\n",
        "# Global variables\n",
        "EPSILON = STARTING_EPSILON\n",
        "Q = None\n",
        "\n",
        "# Create environment\n",
        "# Create replay buffer\n",
        "# Create network for Q(s, a)\n",
        "# Create target network\n",
        "# Create optimizer\n",
        "def create_everything(seed):\n",
        "\n",
        "    seed_.seed(seed)\n",
        "    env = gym.make(\"CartPole-v0\")\n",
        "    env.seed(seed)\n",
        "    test_env = gym.make(\"CartPole-v0\")\n",
        "    test_env.seed(10+seed)\n",
        "    buf = buffers_.ReplayBuffer(BUFSIZE)\n",
        "    Q = torch.nn.Sequential(\n",
        "        torch.nn.Linear(OBS_N, HIDDEN), torch.nn.ReLU(),\n",
        "        torch.nn.Linear(HIDDEN, HIDDEN), torch.nn.ReLU(),\n",
        "        torch.nn.Linear(HIDDEN, ACT_N)\n",
        "    ).to(DEVICE)\n",
        "    Qt = torch.nn.Sequential(\n",
        "        torch.nn.Linear(OBS_N, HIDDEN), torch.nn.ReLU(),\n",
        "        torch.nn.Linear(HIDDEN, HIDDEN), torch.nn.ReLU(),\n",
        "        torch.nn.Linear(HIDDEN, ACT_N)\n",
        "    ).to(DEVICE)\n",
        "    OPT = torch.optim.Adam(Q.parameters(), lr = LEARNING_RATE)\n",
        "    return env, test_env, buf, Q, Qt, OPT\n",
        "\n",
        "# Update a target network using a source network\n",
        "def update(target, source):\n",
        "    for tp, p in zip(target.parameters(), source.parameters()):\n",
        "        tp.data.copy_(p.data)\n",
        "\n",
        "# Create epsilon-greedy policy\n",
        "def policy(env, obs):\n",
        "\n",
        "    global EPSILON, Q\n",
        "\n",
        "    obs = t.f(obs).view(-1, OBS_N)  # Convert to torch tensor\n",
        "    \n",
        "    # With probability EPSILON, choose a random action\n",
        "    # Rest of the time, choose argmax_a Q(s, a) \n",
        "    if np.random.rand() < EPSILON:\n",
        "        action = np.random.randint(ACT_N)\n",
        "    else:\n",
        "        qvalues = Q(obs)\n",
        "        action = torch.argmax(qvalues).item()\n",
        "    \n",
        "    # Epsilon update rule: Keep reducing a small amount over\n",
        "    # STEPS_MAX number of steps, and at the end, fix to EPSILON_END\n",
        "    EPSILON = max(EPSILON_END, EPSILON - (1.0 / STEPS_MAX))\n",
        "    # print(EPSILON)\n",
        "\n",
        "    return action\n",
        "\n",
        "\n",
        "# Update networks\n",
        "def update_networks(epi, buf, Q, Qt, OPT):\n",
        "    \n",
        "    # Sample a minibatch (s, a, r, s', d)\n",
        "    # Each variable is a vector of corresponding values\n",
        "    S, A, R, S2, D = buf.sample(MINIBATCH_SIZE, t)\n",
        "    \n",
        "    # Get Q(s, a) for every (s, a) in the minibatch\n",
        "    qvalues = Q(S).gather(1, A.view(-1, 1)).squeeze()\n",
        "\n",
        "    # Get max_a' Qt(s', a') for every (s') in the minibatch\n",
        "    q2values = torch.max(Qt(S2), dim = 1).values\n",
        "\n",
        "    # If done, \n",
        "    #   y = r(s, a) + GAMMA * max_a' Q(s', a') * (0)\n",
        "    # If not done,\n",
        "    #   y = r(s, a) + GAMMA * max_a' Q(s', a') * (1)       \n",
        "    targets = R + GAMMA * q2values * (1-D)\n",
        "\n",
        "    # Detach y since it is the target. Target values should\n",
        "    # be kept fixed.\n",
        "    loss = torch.nn.MSELoss()(targets.detach(), qvalues)\n",
        "\n",
        "    # Backpropagation\n",
        "    OPT.zero_grad()\n",
        "    loss.backward()\n",
        "    OPT.step()\n",
        "\n",
        "    # Update target network every few steps\n",
        "    if epi % TARGET_UPDATE_FREQ == 0:\n",
        "        update(Qt, Q)\n",
        "\n",
        "    return loss.item()\n",
        "\n",
        "def tune_update_period(period):\n",
        "  global TRAIN_AFTER_EPISODES\n",
        "  TRAIN_AFTER_EPISODES = period\n",
        "\n",
        "def tune_minibatch_size(mbsize):\n",
        "  global MINIBATCH_SIZE\n",
        "  MINIBATCH_SIZE = mbsize\n",
        "\n",
        "\n",
        "# Play episodes\n",
        "# Training function\n",
        "def train(seed):\n",
        "\n",
        "    global EPSILON, Q\n",
        "    print(\"Seed=%d\" % seed)\n",
        "\n",
        "    # Create environment, buffer, Q, Q target, optimizer\n",
        "    env, test_env, buf, Q, Qt, OPT = create_everything(seed)\n",
        "\n",
        "    # epsilon greedy exploration\n",
        "    EPSILON = STARTING_EPSILON\n",
        "\n",
        "    testRs = []\n",
        "    last25testRs = []\n",
        "    print(\"Training:\")\n",
        "    pbar = tqdm.trange(EPISODES)\n",
        "    for epi in pbar:\n",
        "\n",
        "        # Play an episode and log episodic reward\n",
        "        S, A, R = envs_.play_episode_rb(env, policy, buf)\n",
        "        \n",
        "        # Train after collecting sufficient experience\n",
        "        if epi >= TRAIN_AFTER_EPISODES:\n",
        "\n",
        "            # Train for TRAIN_EPOCHS\n",
        "            for tri in range(TRAIN_EPOCHS): \n",
        "                update_networks(epi, buf, Q, Qt, OPT)\n",
        "\n",
        "        # Evaluate for TEST_EPISODES number of episodes\n",
        "        Rews = []\n",
        "        for epj in range(TEST_EPISODES):\n",
        "            S, A, R = envs_.play_episode(test_env, policy, render = False)\n",
        "            Rews += [sum(R)]\n",
        "        testRs += [sum(Rews)/TEST_EPISODES]\n",
        "\n",
        "        # Update progress bar\n",
        "        last25testRs += [sum(testRs[-25:])/len(testRs[-25:])]\n",
        "        pbar.set_description(\"R25(%g)\" % (last25testRs[-1]))\n",
        "\n",
        "    # Close progress bar, environment\n",
        "    pbar.close()\n",
        "    print(\"Training finished!\")\n",
        "    env.close()\n",
        "\n",
        "    return last25testRs\n",
        "\n",
        "# Plot mean curve and (mean-std, mean+std) curve with some transparency\n",
        "# Clip the curves to be between 0, 200\n",
        "def plot_arrays(vars, color, label):\n",
        "    mean = np.mean(vars, axis=0)\n",
        "    std = np.std(vars, axis=0)\n",
        "    plt.plot(range(len(mean)), mean, color=color, label=label)\n",
        "    plt.fill_between(range(len(mean)), np.maximum(mean-std, 0), np.minimum(mean+std,200), color=color, alpha=0.3)\n",
        "\n",
        "\n",
        "def plot_multiple_arrays(listofvars, colors, labels):\n",
        "    for vars, color, label in zip(listofvars, colors, labels):\n",
        "      mean = np.mean(vars, axis=0)\n",
        "      std = np.std(vars, axis=0)\n",
        "      plt.plot(range(len(mean)), mean, color=color, label=label)\n",
        "      plt.fill_between(range(len(mean)), np.maximum(mean-std, 0), np.minimum(mean+std,200), color=color, alpha=0.3)\n",
        "    \n",
        "    plt.legend(loc = 'upper left')\n",
        "\n",
        "if __name__ == \"__main__\":\n",
        "\n",
        "    #for Problem2\n",
        "    # Train for different seeds\n",
        "    curves = []\n",
        "    for seed in SEEDS:\n",
        "      for mbsize in [1,10,50,100]:\n",
        "        tune_minibatch_size(mbsize)\n",
        "        curves += [train(seed)]\n",
        "\n",
        "    NUM_PERIODS = 4\n",
        "    vars = [curves[0::NUM_PERIODS], curves[1::NUM_PERIODS],  curves[2::NUM_PERIODS],  curves[3::NUM_PERIODS]]\n",
        "    plot_multiple_arrays(vars, ['b', 'g', 'r', 'm'], ['dqn_mb1', 'dqn_mb10', 'dqn_mb50',  'dqn_mb100'])"
      ]
    },
    {
      "cell_type": "code",
      "source": [],
      "metadata": {
        "id": "rVKxYZYLh7FX"
      },
      "execution_count": null,
      "outputs": []
    }
  ]
}