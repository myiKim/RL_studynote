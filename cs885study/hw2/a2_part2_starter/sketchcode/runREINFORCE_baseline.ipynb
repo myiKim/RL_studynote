{
  "nbformat": 4,
  "nbformat_minor": 0,
  "metadata": {
    "colab": {
      "provenance": [],
      "gpuType": "T4"
    },
    "kernelspec": {
      "name": "python3",
      "display_name": "Python 3"
    },
    "language_info": {
      "name": "python"
    },
    "accelerator": "GPU",
    "gpuClass": "standard"
  },
  "cells": [
    {
      "cell_type": "code",
      "execution_count": 1,
      "metadata": {
        "colab": {
          "base_uri": "https://localhost:8080/"
        },
        "id": "KfxDoKruHVhW",
        "outputId": "f3b4e2f3-7e30-4b3b-ef6f-2992e4ca21fc"
      },
      "outputs": [
        {
          "output_type": "stream",
          "name": "stdout",
          "text": [
            "Drive already mounted at /content/gdrive/; to attempt to forcibly remount, call drive.mount(\"/content/gdrive/\", force_remount=True).\n"
          ]
        }
      ],
      "source": [
        "from google.colab import drive\n",
        "import os\n",
        "drive.mount('/content/gdrive/')"
      ]
    },
    {
      "cell_type": "code",
      "source": [
        "!ls gdrive/MyDrive/RLgitPurpose/hw2"
      ],
      "metadata": {
        "colab": {
          "base_uri": "https://localhost:8080/"
        },
        "id": "xjuHZlXhHkIV",
        "outputId": "76186cbf-2ba3-4233-b0b2-af664fd26797"
      },
      "execution_count": 2,
      "outputs": [
        {
          "output_type": "stream",
          "name": "stdout",
          "text": [
            "images\trunREINFORCE_baseline.ipynb  runREINFORCE.ipynb  utils\n"
          ]
        }
      ]
    },
    {
      "cell_type": "code",
      "source": [
        "!mkdir utils\n",
        "!cp ./gdrive/MyDrive/RLgitPurpose/hw2/utils/envs.py utils/envs.py\n",
        "!cp ./gdrive/MyDrive/RLgitPurpose/hw2/utils/seed.py utils/seed.py\n",
        "!cp ./gdrive/MyDrive/RLgitPurpose/hw2/utils/buffers.py utils/buffers.py\n",
        "!cp ./gdrive/MyDrive/RLgitPurpose/hw2/utils/torch.py utils/torch.py"
      ],
      "metadata": {
        "colab": {
          "base_uri": "https://localhost:8080/"
        },
        "id": "fn8k2orkHl3U",
        "outputId": "f82e6290-558e-4cb9-a623-043185839a28"
      },
      "execution_count": 3,
      "outputs": [
        {
          "output_type": "stream",
          "name": "stdout",
          "text": [
            "mkdir: cannot create directory ‘utils’: File exists\n"
          ]
        }
      ]
    },
    {
      "cell_type": "code",
      "source": [
        "! ls utils"
      ],
      "metadata": {
        "colab": {
          "base_uri": "https://localhost:8080/"
        },
        "id": "uxMKa5xsH_jb",
        "outputId": "2545f35b-6b2c-40df-e5d5-2cf087350e1f"
      },
      "execution_count": 4,
      "outputs": [
        {
          "output_type": "stream",
          "name": "stdout",
          "text": [
            "buffers.py  envs.py  __pycache__  seed.py  torch.py\n"
          ]
        }
      ]
    },
    {
      "cell_type": "code",
      "source": [
        "from math import log\n",
        "import gym\n",
        "import numpy as np\n",
        "import utils.envs, utils.seed, utils.buffers, utils.torch\n",
        "import torch, random\n",
        "from torch import nn\n",
        "import copy\n",
        "import tqdm\n",
        "import matplotlib.pyplot as plt\n",
        "import warnings\n",
        "import argparse\n",
        "\n",
        "warnings.filterwarnings(\"ignore\")"
      ],
      "metadata": {
        "id": "IMHXxuGmHowE"
      },
      "execution_count": 5,
      "outputs": []
    },
    {
      "cell_type": "code",
      "source": [
        "# REINFORCE with baseline\n",
        "# Slide 6\n",
        "# cs.uwaterloo.ca/~ppoupart/teaching/cs885-fall21/slides/cs885-module1.pdf\n",
        "\n",
        "# Constants\n",
        "SEED = 1\n",
        "t = utils.torch.TorchHelper()\n",
        "DEVICE = t.device\n",
        "mode = \"cartpole\"\n",
        "\n",
        "#for cartpole\n",
        "if mode == \"cartpole\":\n",
        "    OBS_N = 4               # State space size\n",
        "    ACT_N = 2               # Action space size\n",
        "    ENV_NAME = \"CartPole-v0\"\n",
        "    GAMMA = 1.0             # Discount factor in episodic reward objective\n",
        "    LEARNING_RATE1 = 5e-4   # Learning rate for value optimizer\n",
        "    LEARNING_RATE2 = 5e-4   # Learning rate for actor optimizer\n",
        "elif \"mountain_car\" in mode:\n",
        "    OBS_N = 2\n",
        "    ACT_N = 3\n",
        "    ENV_NAME = \"MountainCar-v0\"\n",
        "    GAMMA = 0.9               # Discount factor in episodic reward objective\n",
        "    LEARNING_RATE1 = 1e-3     # Learning rate for value optimizer\n",
        "    LEARNING_RATE2 = 1e-3     # Learning rate for actor optimizer\n",
        " \n",
        "EPOCHS = 800            # Total number of epochs to learn over\n",
        "EPISODES_PER_EPOCH = 1  # Epsides per epoch\n",
        "TEST_EPISODES = 10      # Test episodes\n",
        "HIDDEN = 32             # Hidden size\n",
        "POLICY_TRAIN_ITERS = 1  # Training epochs\n",
        "\n",
        "# Create environment\n",
        "utils.seed.seed(SEED)\n",
        "env = gym.make(ENV_NAME)\n",
        "env.seed(SEED)\n",
        "\n",
        "# Networks\n",
        "V = torch.nn.Sequential(\n",
        "    torch.nn.Linear(OBS_N, HIDDEN), torch.nn.ReLU(),\n",
        "    torch.nn.Linear(HIDDEN, HIDDEN), torch.nn.ReLU(),\n",
        "    torch.nn.Linear(HIDDEN, 1)\n",
        ").to(DEVICE)\n",
        "pi = torch.nn.Sequential(\n",
        "    torch.nn.Linear(OBS_N, HIDDEN), torch.nn.ReLU(),\n",
        "    torch.nn.Linear(HIDDEN, HIDDEN), torch.nn.ReLU(),\n",
        "    torch.nn.Linear(HIDDEN, ACT_N)\n",
        ").to(DEVICE)\n",
        "\n",
        "# Optimizers\n",
        "OPT1 = torch.optim.Adam(V.parameters(), lr = LEARNING_RATE1)\n",
        "OPT2 = torch.optim.Adam(pi.parameters(), lr = LEARNING_RATE2)\n",
        "\n",
        "# Policy\n",
        "def policy(env, obs):\n",
        "    probs = torch.nn.Softmax(dim=-1)(pi(t.f(obs)))\n",
        "    return np.random.choice(ACT_N, p = probs.cpu().detach().numpy())\n",
        "\n",
        "\n",
        "# Training function\n",
        "# S = tensor of states observed in the episode/ batch of episodes\n",
        "# A = tensor of actions taken in episode/ batch of episodes\n",
        "# return = tensor where nth element is \\sum^{T-n}_0 gamma^n * reward (return at step n of episode)\n",
        "def train(S,A,returns):\n",
        "    ###############################\n",
        "    # YOUR CODE HERE:\n",
        "\n",
        "    # Implement the training of the value function (follow slides, doing a gradient update per\n",
        "    # step in the episode)\n",
        "    # ....\n",
        "\n",
        "    OPT1.zero_grad()\n",
        "    values = V(S).squeeze()\n",
        "    deltas = returns - values\n",
        "    n = torch.arange(S.size(0)).to(DEVICE)\n",
        "    value_objective = -((GAMMA**n) *deltas * values).mean()\n",
        "    value_objective.backward(retain_graph=True)\n",
        "    OPT1.step()\n",
        "\n",
        "    # policy gradient with baseline\n",
        "    # apply accumulated gradient across the episode\n",
        "    for i in range(POLICY_TRAIN_ITERS):\n",
        "        # implement objective and update for policy\n",
        "        # should be similar to REINFORCE + small change\n",
        "        OPT2.zero_grad()\n",
        "        # collect pi(a | s) for trajectories\n",
        "        log_probs = torch.nn.LogSoftmax(dim=-1)(pi(S)).gather(1, A.view(-1, 1)).view(-1)\n",
        "        # print('log_probs shape:', log_probs.shape)\n",
        "        # print('deltas shape:', deltas.shape)      \n",
        "        policy_objective = -((GAMMA**n) * deltas * log_probs).sum()\n",
        "        policy_objective.backward(retain_graph=True)\n",
        "        OPT2.step()    \n",
        "        \n",
        "    #################################"
      ],
      "metadata": {
        "id": "U4qzWQXqHsPc"
      },
      "execution_count": 16,
      "outputs": []
    },
    {
      "cell_type": "code",
      "source": [
        "# Play episodes\n",
        "Rs = [] \n",
        "last25Rs = []\n",
        "print(\"Training:\")\n",
        "pbar = tqdm.trange(EPOCHS)\n",
        "for epi in pbar:\n",
        "\n",
        "    all_S, all_A = [], []\n",
        "    all_returns = []\n",
        "    for epj in range(EPISODES_PER_EPOCH):\n",
        "        \n",
        "        # Play an episode and log episodic reward\n",
        "        S, A, R = utils.envs.play_episode(env, policy)\n",
        "\n",
        "        #modify the reward for \"mountain_car_mod\" mode\n",
        "        # replace reward with the height of the car (which is first component of state)\n",
        "        if mode == \"mountain_car_mod\":\n",
        "            R = [s[0] for s in S[:-1]]\n",
        "\n",
        "\n",
        "        all_S += S[:-1] # ignore last state\n",
        "        all_A += A\n",
        "        \n",
        "        # Create returns \n",
        "        discounted_rewards = copy.deepcopy(R)\n",
        "        for i in range(len(R)-1)[::-1]:\n",
        "            discounted_rewards[i] += GAMMA * discounted_rewards[i+1]\n",
        "        discounted_rewards = t.f(discounted_rewards)\n",
        "        all_returns += [discounted_rewards]\n",
        "\n",
        "    Rs += [sum(R)]\n",
        "    S, A = t.f(np.array(all_S)), t.l(np.array(all_A))\n",
        "\n",
        "    returns = torch.cat(all_returns, dim=0).flatten()\n",
        "\n",
        "    # train\n",
        "    train(S, A, returns)\n",
        "\n",
        "    # Show mean episodic reward over last 25 episodes\n",
        "    last25Rs += [sum(Rs[-25:])/len(Rs[-25:])]\n",
        "    pbar.set_description(\"R25(%g, mean over 10 episodes)\" % (last25Rs[-1]))\n",
        "  \n",
        "pbar.close()\n",
        "print(\"Training finished!\")\n",
        "\n",
        "# Plot the reward\n",
        "N = len(last25Rs)\n",
        "plt.plot(range(N), last25Rs, 'b')\n",
        "plt.xlabel('Episode')\n",
        "plt.ylabel('Reward (averaged over last 25 episodes)')\n",
        "plt.title(\"REINFORCE with Baseline, mode: \" + mode)\n",
        "#plt.savefig(\"images/reinforce_baseline-\"+mode+\".png\")\n",
        "print(\"Episodic reward plot saved!\")\n",
        "\n",
        "# Play test episodes\n",
        "print(\"Testing:\")\n",
        "testRs = []\n",
        "for epi in range(TEST_EPISODES):\n",
        "    S, A, R = utils.envs.play_episode(env, policy, render = False)\n",
        "\n",
        "    #for mountain car environment, report the height the car achieved instead of reward\n",
        "    #modify the reward for \"mountain_car_mod\" mode\n",
        "    # replace reward with the height of the car (which is first component of state)\n",
        "    if \"mountain_car\" in mode:\n",
        "        R = [s[0] for s in S[:-1]]\n",
        "\n",
        "    testRs += [sum(R)]\n",
        "    print(\"Episode%02d: R = %g\" % (epi+1, sum(R)))\n",
        "\n",
        "if \"mountain_car\" in mode:\n",
        "    print(\"Height achieved: %.2f ± %.2f\" % (np.mean(testRs), np.std(testRs)))\n",
        "else:\n",
        "    print(\"Eval score: %.2f ± %.2f\" % (np.mean(testRs), np.std(testRs)))\n",
        "env.close()"
      ],
      "metadata": {
        "colab": {
          "base_uri": "https://localhost:8080/",
          "height": 750
        },
        "id": "nJyNJYyiIfkN",
        "outputId": "2e307fc9-0d50-4640-9c3d-8820d103e5ca"
      },
      "execution_count": 17,
      "outputs": [
        {
          "output_type": "stream",
          "name": "stdout",
          "text": [
            "Training:\n"
          ]
        },
        {
          "output_type": "stream",
          "name": "stderr",
          "text": [
            "R25(192.76, mean over 10 episodes): 100%|██████████| 800/800 [00:53<00:00, 15.01it/s]\n"
          ]
        },
        {
          "output_type": "stream",
          "name": "stdout",
          "text": [
            "Training finished!\n",
            "Episodic reward plot saved!\n",
            "Testing:\n",
            "Episode01: R = 199\n",
            "Episode02: R = 200\n",
            "Episode03: R = 200\n",
            "Episode04: R = 200\n",
            "Episode05: R = 200\n",
            "Episode06: R = 200\n",
            "Episode07: R = 200\n",
            "Episode08: R = 200\n",
            "Episode09: R = 200\n",
            "Episode10: R = 200\n",
            "Eval score: 199.90 ± 0.30\n"
          ]
        },
        {
          "output_type": "display_data",
          "data": {
            "text/plain": [
              "<Figure size 640x480 with 1 Axes>"
            ],
            "image/png": "[encoded data removed]"
          },
          "metadata": {}
        }
      ]
    },
    {
      "cell_type": "code",
      "source": [],
      "metadata": {
        "id": "jDcvfWSYNlhP"
      },
      "execution_count": null,
      "outputs": []
    }
  ]
}