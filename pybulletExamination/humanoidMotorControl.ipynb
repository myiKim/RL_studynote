{
 "cells": [
  {
   "cell_type": "code",
   "execution_count": 1,
   "id": "0b1d0ae6-9ca9-44f6-b478-91288ec8cfac",
   "metadata": {},
   "outputs": [],
   "source": [
    "import pybullet as p\n",
    "import time\n",
    "import os\n",
    "import math\n",
    "import pybullet_data\n",
    "physicsClient = p.connect(p.GUI)\n",
    "p.configureDebugVisualizer(p.COV_ENABLE_Y_AXIS_UP, 1)\n",
    "p.setGravity(0,-9.8,0)"
   ]
  },
  {
   "cell_type": "markdown",
   "id": "4a26a1af-f1b5-44c5-9020-4ae0207924e9",
   "metadata": {},
   "source": [
    "# load URDFs "
   ]
  },
  {
   "cell_type": "code",
   "execution_count": 2,
   "id": "d90d0021-b455-49ab-8cd8-20a54800c365",
   "metadata": {},
   "outputs": [],
   "source": [
    "p.setAdditionalSearchPath(pybullet_data.getDataPath()) \n",
    "\n",
    "StartPos = [2,2,1]\n",
    "flipconst = p.getQuaternionFromEuler([-math.pi * 0.5, 0, 0])\n",
    "planeId = p.loadURDF(\"plane.urdf\", [0,0,0],flipconst,useMaximalCoordinates=True)\n",
    "humId = p.loadURDF(\"./urdfs/humanoid.urdf\",\n",
    "                   basePosition=StartPos, \n",
    "                   baseOrientation=p.getQuaternionFromEuler([-math.pi,1,math.pi]),\n",
    "                  globalScaling=0.25,\n",
    "                    useFixedBase=False)"
   ]
  },
  {
   "cell_type": "code",
   "execution_count": 3,
   "id": "6b22d30a-0af4-4575-9f79-3ead2f44857d",
   "metadata": {},
   "outputs": [
    {
     "ename": "error",
     "evalue": "Not connected to physics server.",
     "output_type": "error",
     "traceback": [
      "\u001b[1;31m---------------------------------------------------------------------------\u001b[0m",
      "\u001b[1;31merror\u001b[0m                                     Traceback (most recent call last)",
      "Cell \u001b[1;32mIn[3], line 3\u001b[0m\n\u001b[0;32m      1\u001b[0m \u001b[38;5;28;01mfor\u001b[39;00m i \u001b[38;5;129;01min\u001b[39;00m \u001b[38;5;28mrange\u001b[39m (\u001b[38;5;241m1000\u001b[39m):\n\u001b[0;32m      2\u001b[0m    \u001b[38;5;66;03m# print(\"step \", i)\u001b[39;00m\n\u001b[1;32m----> 3\u001b[0m    \u001b[43mp\u001b[49m\u001b[38;5;241;43m.\u001b[39;49m\u001b[43mstepSimulation\u001b[49m\u001b[43m(\u001b[49m\u001b[43m)\u001b[49m\n\u001b[0;32m      4\u001b[0m    time\u001b[38;5;241m.\u001b[39msleep(\u001b[38;5;241m1.\u001b[39m\u001b[38;5;241m/\u001b[39m\u001b[38;5;241m240.\u001b[39m)\n\u001b[0;32m      5\u001b[0m    \u001b[38;5;66;03m# print(\"position/orientation : \", p.getBasePositionAndOrientation(humId))\u001b[39;00m\n",
      "\u001b[1;31merror\u001b[0m: Not connected to physics server."
     ]
    }
   ],
   "source": [
    "for i in range (1000):\n",
    "   # print(\"step \", i)\n",
    "   p.stepSimulation()\n",
    "   time.sleep(1./240.)\n",
    "   # print(\"position/orientation : \", p.getBasePositionAndOrientation(humId))"
   ]
  },
  {
   "cell_type": "code",
   "execution_count": null,
   "id": "ece34d40-bf96-4e66-8a67-7b63a4f050e4",
   "metadata": {},
   "outputs": [],
   "source": [
    "dir(p)"
   ]
  },
  {
   "cell_type": "code",
   "execution_count": null,
   "id": "ba9ebfa2-8eab-4e0c-8d39-c6ec88b7c61a",
   "metadata": {},
   "outputs": [],
   "source": [
    "help(p.loadURDF)"
   ]
  },
  {
   "cell_type": "code",
   "execution_count": null,
   "id": "532cb770-fbf7-4a72-86cf-f768008afb4d",
   "metadata": {},
   "outputs": [],
   "source": []
  }
 ],
 "metadata": {
  "kernelspec": {
   "display_name": "Python 3 (ipykernel)",
   "language": "python",
   "name": "python3"
  },
  "language_info": {
   "codemirror_mode": {
    "name": "ipython",
    "version": 3
   },
   "file_extension": ".py",
   "mimetype": "text/x-python",
   "name": "python",
   "nbconvert_exporter": "python",
   "pygments_lexer": "ipython3",
   "version": "3.8.17"
  }
 },
 "nbformat": 4,
 "nbformat_minor": 5
}
