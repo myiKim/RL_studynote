{
 "cells": [
  {
   "cell_type": "code",
   "execution_count": 1,
   "id": "0b1d0ae6-9ca9-44f6-b478-91288ec8cfac",
   "metadata": {},
   "outputs": [],
   "source": [
    "import pybullet as p\n",
    "import time\n",
    "import os\n",
    "import math\n",
    "import pybullet_data\n",
    "physicsClient = p.connect(p.GUI)\n",
    "p.configureDebugVisualizer(p.COV_ENABLE_Y_AXIS_UP, 1)\n",
    "p.setGravity(0,-9.8,0)"
   ]
  },
  {
   "cell_type": "markdown",
   "id": "4a26a1af-f1b5-44c5-9020-4ae0207924e9",
   "metadata": {},
   "source": [
    "# load URDFs "
   ]
  },
  {
   "cell_type": "code",
   "execution_count": 2,
   "id": "d90d0021-b455-49ab-8cd8-20a54800c365",
   "metadata": {},
   "outputs": [],
   "source": [
    "p.setAdditionalSearchPath(pybullet_data.getDataPath()) \n",
    "\n",
    "StartPos = [2,2,1]\n",
    "flipconst = p.getQuaternionFromEuler([-math.pi * 0.5, 0, 0])\n",
    "planeId = p.loadURDF(\"plane.urdf\", [0,0,0],flipconst,useMaximalCoordinates=True)\n",
    "humId = p.loadURDF(\"./urdfs/humanoid.urdf\",\n",
    "                   basePosition=StartPos, \n",
    "                   baseOrientation=p.getQuaternionFromEuler([-math.pi,0,math.pi]),\n",
    "                  globalScaling=0.25,\n",
    "                    useFixedBase=False)"
   ]
  },
  {
   "cell_type": "code",
   "execution_count": 3,
   "id": "de85bbfa-e61e-48ac-8a7a-14bdea01a5da",
   "metadata": {},
   "outputs": [],
   "source": [
    "for joint in range(p.getNumJoints(humId)):\n",
    "    p.changeDynamics(humId, joint, lateralFriction=0.9)\n",
    "\n",
    "p.changeDynamics(humId, -1, linearDamping=0, angularDamping=0)\n",
    "\n",
    "chest = 1\n",
    "neck = 2\n",
    "rightHip = 3\n",
    "rightKnee = 4\n",
    "rightAnkle = 5\n",
    "rightShoulder = 6\n",
    "rightElbow = 7\n",
    "leftHip = 9\n",
    "leftKnee = 10\n",
    "leftAnkle = 11\n",
    "leftShoulder = 12\n",
    "leftElbow = 13\n",
    "\n",
    "#following deep mimic example..\n",
    "jointIndicesWhole = [\n",
    "    chest, neck, rightHip, rightKnee, rightAnkle, rightShoulder, rightElbow, leftHip, leftKnee,\n",
    "    leftAnkle, leftShoulder, leftElbow\n",
    "]\n",
    "jointFrictionForce =0\n",
    "\n",
    "for joint in jointIndicesWhole:\n",
    "    # self._pybullet_client.setJointMotorControlMultiDof(self._sim_model, j, self._pybullet_client.POSITION_CONTROL, force=[1,1,1])\n",
    "    p.setJointMotorControl2(humId, #bodyUniqueID\n",
    "                                              joint, #jointIndex\n",
    "                                              p.POSITION_CONTROL, #ControlMode \n",
    "                                              # you specify a target position for the joint, and the motor control will attempt to move the joint to that target position  \n",
    "                                              # It will apply ******(forces or torques as needed)매우중요! to achieve the desired joint position. \n",
    "                                              targetPosition=0,\n",
    "                                              positionGain=0,\n",
    "                                              targetVelocity=0,\n",
    "                                              force=jointFrictionForce) #(Myi) jointFrictionForce set to 0 in the above"
   ]
  },
  {
   "cell_type": "code",
   "execution_count": 4,
   "id": "6b22d30a-0af4-4575-9f79-3ead2f44857d",
   "metadata": {},
   "outputs": [],
   "source": [
    "for i in range (1000):\n",
    "   # print(\"step \", i)\n",
    "   p.stepSimulation()\n",
    "   time.sleep(1./240.)\n",
    "   # print(\"position/orientation : \", p.getBasePositionAndOrientation(humId))"
   ]
  },
  {
   "cell_type": "code",
   "execution_count": 5,
   "id": "ece34d40-bf96-4e66-8a67-7b63a4f050e4",
   "metadata": {},
   "outputs": [
    {
     "name": "stdout",
     "output_type": "stream",
     "text": [
      "Help on tuple object:\n",
      "\n",
      "class tuple(object)\n",
      " |  tuple(iterable=(), /)\n",
      " |  \n",
      " |  Built-in immutable sequence.\n",
      " |  \n",
      " |  If no argument is given, the constructor returns an empty tuple.\n",
      " |  If iterable is specified the tuple is initialized from iterable's items.\n",
      " |  \n",
      " |  If the argument is a tuple, the return value is the same object.\n",
      " |  \n",
      " |  Built-in subclasses:\n",
      " |      asyncgen_hooks\n",
      " |      UnraisableHookArgs\n",
      " |  \n",
      " |  Methods defined here:\n",
      " |  \n",
      " |  __add__(self, value, /)\n",
      " |      Return self+value.\n",
      " |  \n",
      " |  __contains__(self, key, /)\n",
      " |      Return key in self.\n",
      " |  \n",
      " |  __eq__(self, value, /)\n",
      " |      Return self==value.\n",
      " |  \n",
      " |  __ge__(self, value, /)\n",
      " |      Return self>=value.\n",
      " |  \n",
      " |  __getattribute__(self, name, /)\n",
      " |      Return getattr(self, name).\n",
      " |  \n",
      " |  __getitem__(self, key, /)\n",
      " |      Return self[key].\n",
      " |  \n",
      " |  __getnewargs__(self, /)\n",
      " |  \n",
      " |  __gt__(self, value, /)\n",
      " |      Return self>value.\n",
      " |  \n",
      " |  __hash__(self, /)\n",
      " |      Return hash(self).\n",
      " |  \n",
      " |  __iter__(self, /)\n",
      " |      Implement iter(self).\n",
      " |  \n",
      " |  __le__(self, value, /)\n",
      " |      Return self<=value.\n",
      " |  \n",
      " |  __len__(self, /)\n",
      " |      Return len(self).\n",
      " |  \n",
      " |  __lt__(self, value, /)\n",
      " |      Return self<value.\n",
      " |  \n",
      " |  __mul__(self, value, /)\n",
      " |      Return self*value.\n",
      " |  \n",
      " |  __ne__(self, value, /)\n",
      " |      Return self!=value.\n",
      " |  \n",
      " |  __repr__(self, /)\n",
      " |      Return repr(self).\n",
      " |  \n",
      " |  __rmul__(self, value, /)\n",
      " |      Return value*self.\n",
      " |  \n",
      " |  count(self, value, /)\n",
      " |      Return number of occurrences of value.\n",
      " |  \n",
      " |  index(self, value, start=0, stop=9223372036854775807, /)\n",
      " |      Return first index of value.\n",
      " |      \n",
      " |      Raises ValueError if the value is not present.\n",
      " |  \n",
      " |  ----------------------------------------------------------------------\n",
      " |  Static methods defined here:\n",
      " |  \n",
      " |  __new__(*args, **kwargs) from builtins.type\n",
      " |      Create and return a new object.  See help(type) for accurate signature.\n",
      "\n"
     ]
    }
   ],
   "source": [
    "help(p.stepSimulation())"
   ]
  },
  {
   "cell_type": "code",
   "execution_count": 6,
   "id": "ba9ebfa2-8eab-4e0c-8d39-c6ec88b7c61a",
   "metadata": {},
   "outputs": [
    {
     "name": "stdout",
     "output_type": "stream",
     "text": [
      "Help on built-in function loadURDF in module pybullet:\n",
      "\n",
      "loadURDF(...)\n",
      "    bodyUniqueId = loadURDF(fileName, basePosition=[0.,0.,0.], baseOrientation=[0.,0.,0.,1.], useMaximalCoordinates=0, useFixedBase=0, flags=0, globalScaling=1.0, physicsClientId=0)\n",
      "    Create a multibody by loading a URDF file.\n",
      "\n"
     ]
    }
   ],
   "source": [
    "help(p.loadURDF)"
   ]
  },
  {
   "cell_type": "code",
   "execution_count": null,
   "id": "532cb770-fbf7-4a72-86cf-f768008afb4d",
   "metadata": {},
   "outputs": [],
   "source": []
  }
 ],
 "metadata": {
  "kernelspec": {
   "display_name": "Python 3 (ipykernel)",
   "language": "python",
   "name": "python3"
  },
  "language_info": {
   "codemirror_mode": {
    "name": "ipython",
    "version": 3
   },
   "file_extension": ".py",
   "mimetype": "text/x-python",
   "name": "python",
   "nbconvert_exporter": "python",
   "pygments_lexer": "ipython3",
   "version": "3.8.17"
  }
 },
 "nbformat": 4,
 "nbformat_minor": 5
}
