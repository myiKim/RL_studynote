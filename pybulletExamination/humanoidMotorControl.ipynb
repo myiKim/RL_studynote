{
 "cells": [
  {
   "cell_type": "code",
   "execution_count": 1,
   "id": "0b1d0ae6-9ca9-44f6-b478-91288ec8cfac",
   "metadata": {},
   "outputs": [],
   "source": [
    "import pybullet as p\n",
    "import time\n",
    "import os\n",
    "import math\n",
    "import pybullet_data\n",
    "import numpy as np\n",
    "physicsClient = p.connect(p.GUI)\n",
    "p.configureDebugVisualizer(p.COV_ENABLE_Y_AXIS_UP, 1)\n",
    "p.setGravity(0,-9.8,0)"
   ]
  },
  {
   "cell_type": "markdown",
   "id": "4a26a1af-f1b5-44c5-9020-4ae0207924e9",
   "metadata": {},
   "source": [
    "# load URDFs "
   ]
  },
  {
   "cell_type": "code",
   "execution_count": 2,
   "id": "d90d0021-b455-49ab-8cd8-20a54800c365",
   "metadata": {},
   "outputs": [],
   "source": [
    "p.setAdditionalSearchPath(pybullet_data.getDataPath()) \n",
    "\n",
    "StartPos = [2,2,1]\n",
    "flipconst = p.getQuaternionFromEuler([-math.pi * 0.5, 0, 0])\n",
    "planeId = p.loadURDF(\"plane.urdf\", [0,0,0],flipconst,useMaximalCoordinates=True)\n",
    "humId = p.loadURDF(\"./urdfs/humanoid.urdf\",\n",
    "                   basePosition=StartPos, \n",
    "                   baseOrientation=p.getQuaternionFromEuler([-math.pi,0,math.pi]),\n",
    "                  globalScaling=0.25,\n",
    "                    useFixedBase=False)"
   ]
  },
  {
   "cell_type": "code",
   "execution_count": 3,
   "id": "de85bbfa-e61e-48ac-8a7a-14bdea01a5da",
   "metadata": {},
   "outputs": [],
   "source": [
    "for joint in range(p.getNumJoints(humId)):\n",
    "    p.changeDynamics(humId, joint, lateralFriction=0.9)\n",
    "\n",
    "p.changeDynamics(humId, -1, linearDamping=0, angularDamping=0)\n",
    "\n",
    "chest = 1\n",
    "neck = 2\n",
    "rightHip = 3\n",
    "rightKnee = 4\n",
    "rightAnkle = 5\n",
    "rightShoulder = 6\n",
    "rightElbow = 7\n",
    "leftHip = 9\n",
    "leftKnee = 10\n",
    "leftAnkle = 11\n",
    "leftShoulder = 12\n",
    "leftElbow = 13\n",
    "\n",
    "#following deep mimic example..\n",
    "jointIndicesWhole = [\n",
    "    chest, neck, rightHip, rightKnee, rightAnkle, rightShoulder, rightElbow, leftHip, leftKnee,\n",
    "    leftAnkle, leftShoulder, leftElbow\n",
    "]\n",
    "jointFrictionForce =0\n",
    "\n",
    "\n",
    "\n",
    "for joint in jointIndicesWhole:\n",
    "    # self._pybullet_client.setJointMotorControlMultiDof(self._sim_model, j, self._pybullet_client.POSITION_CONTROL, force=[1,1,1])\n",
    "    p.setJointMotorControl2(humId, #bodyUniqueID\n",
    "                          joint, #jointIndex\n",
    "                          p.POSITION_CONTROL, #ControlMode \n",
    "                          # you specify a target position for the joint, and the motor control will attempt to move the joint to that target position  \n",
    "                          # It will apply ******(forces or torques as needed)매우중요! to achieve the desired joint position. \n",
    "                          targetPosition=0,\n",
    "                          positionGain=0,\n",
    "                          targetVelocity=0,\n",
    "                          force=jointFrictionForce) #(Myi) jointFrictionForce set to 0 in the above\n",
    "    p.setJointMotorControlMultiDof(\n",
    "          humId,\n",
    "          joint,\n",
    "          p.POSITION_CONTROL,\n",
    "          targetPosition=[0, 0, 0, 1],\n",
    "          targetVelocity=[0, 0, 0],\n",
    "          positionGain=0,\n",
    "          velocityGain=1,\n",
    "          force=[jointFrictionForce, jointFrictionForce, jointFrictionForce])\n",
    "\n",
    "jointDofNum = [4, 4, 4, 1, 4, 4, 1, 4, 1, 4, 4, 1]\n",
    "\n",
    "def setForce(taus):\n",
    "    indices, forces = [] , []\n",
    "    dofIndex = 7\n",
    "    for joint in range(len(jointIndicesWhole)):\n",
    "        # print(indices)\n",
    "        jtindx = jointIndicesWhole[joint]\n",
    "        indices.append(jtindx)   \n",
    "    \n",
    "        if jointDofNum[joint] == 4:\n",
    "            force = [\n",
    "              1 * taus[dofIndex + 0], 1 * taus[dofIndex + 1],\n",
    "              1 * taus[dofIndex + 2]\n",
    "            ]\n",
    "        if jointDofNum[joint] == 1:\n",
    "            force = [1 * taus[dofIndex]]\n",
    "            #print(\"force[\", jointIndex,\"]=\",force)\n",
    "        forces.append(force)\n",
    "        dofIndex += jointDofNum[joint]\n",
    "        \n",
    "    p.setJointMotorControlMultiDofArray(humId,\n",
    "                                         indices,\n",
    "                                         p.TORQUE_CONTROL,\n",
    "                                         forces=forces)"
   ]
  },
  {
   "cell_type": "code",
   "execution_count": 4,
   "id": "6b22d30a-0af4-4575-9f79-3ead2f44857d",
   "metadata": {},
   "outputs": [
    {
     "ename": "error",
     "evalue": "Not connected to physics server.",
     "output_type": "error",
     "traceback": [
      "\u001b[1;31m---------------------------------------------------------------------------\u001b[0m",
      "\u001b[1;31merror\u001b[0m                                     Traceback (most recent call last)",
      "Cell \u001b[1;32mIn[4], line 3\u001b[0m\n\u001b[0;32m      1\u001b[0m \u001b[38;5;28;01mfor\u001b[39;00m i \u001b[38;5;129;01min\u001b[39;00m \u001b[38;5;28mrange\u001b[39m (\u001b[38;5;241m2000\u001b[39m):\n\u001b[0;32m      2\u001b[0m     \u001b[38;5;66;03m# print(\"step \", i)\u001b[39;00m\n\u001b[1;32m----> 3\u001b[0m     \u001b[43msetForce\u001b[49m\u001b[43m(\u001b[49m\u001b[43mnp\u001b[49m\u001b[38;5;241;43m.\u001b[39;49m\u001b[43mzeros\u001b[49m\u001b[43m(\u001b[49m\u001b[38;5;241;43m100\u001b[39;49m\u001b[43m)\u001b[49m\u001b[38;5;241;43m.\u001b[39;49m\u001b[43mtolist\u001b[49m\u001b[43m(\u001b[49m\u001b[43m)\u001b[49m\u001b[43m)\u001b[49m\n\u001b[0;32m      4\u001b[0m     p\u001b[38;5;241m.\u001b[39mstepSimulation()\n\u001b[0;32m      5\u001b[0m     time\u001b[38;5;241m.\u001b[39msleep(\u001b[38;5;241m1.\u001b[39m\u001b[38;5;241m/\u001b[39m\u001b[38;5;241m240.\u001b[39m)\n",
      "Cell \u001b[1;32mIn[3], line 70\u001b[0m, in \u001b[0;36msetForce\u001b[1;34m(taus)\u001b[0m\n\u001b[0;32m     67\u001b[0m     forces\u001b[38;5;241m.\u001b[39mappend(force)\n\u001b[0;32m     68\u001b[0m     dofIndex \u001b[38;5;241m+\u001b[39m\u001b[38;5;241m=\u001b[39m jointDofNum[joint]\n\u001b[1;32m---> 70\u001b[0m \u001b[43mp\u001b[49m\u001b[38;5;241;43m.\u001b[39;49m\u001b[43msetJointMotorControlMultiDofArray\u001b[49m\u001b[43m(\u001b[49m\u001b[43mhumId\u001b[49m\u001b[43m,\u001b[49m\n\u001b[0;32m     71\u001b[0m \u001b[43m                                     \u001b[49m\u001b[43mindices\u001b[49m\u001b[43m,\u001b[49m\n\u001b[0;32m     72\u001b[0m \u001b[43m                                     \u001b[49m\u001b[43mp\u001b[49m\u001b[38;5;241;43m.\u001b[39;49m\u001b[43mTORQUE_CONTROL\u001b[49m\u001b[43m,\u001b[49m\n\u001b[0;32m     73\u001b[0m \u001b[43m                                     \u001b[49m\u001b[43mforces\u001b[49m\u001b[38;5;241;43m=\u001b[39;49m\u001b[43mforces\u001b[49m\u001b[43m)\u001b[49m\n",
      "\u001b[1;31merror\u001b[0m: Not connected to physics server."
     ]
    }
   ],
   "source": [
    "for i in range (2000):\n",
    "    # print(\"step \", i)\n",
    "    setForce(np.zeros(100).tolist())\n",
    "    p.stepSimulation()\n",
    "    time.sleep(1./240.)\n",
    "    # print(\"position/orientation : \", p.getBasePositionAndOrientation(humId))"
   ]
  },
  {
   "cell_type": "code",
   "execution_count": null,
   "id": "ece34d40-bf96-4e66-8a67-7b63a4f050e4",
   "metadata": {},
   "outputs": [],
   "source": [
    "help(p.stepSimulation())"
   ]
  },
  {
   "cell_type": "code",
   "execution_count": null,
   "id": "ba9ebfa2-8eab-4e0c-8d39-c6ec88b7c61a",
   "metadata": {},
   "outputs": [],
   "source": [
    "help(p.loadURDF)"
   ]
  },
  {
   "cell_type": "code",
   "execution_count": null,
   "id": "532cb770-fbf7-4a72-86cf-f768008afb4d",
   "metadata": {},
   "outputs": [],
   "source": []
  }
 ],
 "metadata": {
  "kernelspec": {
   "display_name": "Python 3 (ipykernel)",
   "language": "python",
   "name": "python3"
  },
  "language_info": {
   "codemirror_mode": {
    "name": "ipython",
    "version": 3
   },
   "file_extension": ".py",
   "mimetype": "text/x-python",
   "name": "python",
   "nbconvert_exporter": "python",
   "pygments_lexer": "ipython3",
   "version": "3.8.17"
  }
 },
 "nbformat": 4,
 "nbformat_minor": 5
}
